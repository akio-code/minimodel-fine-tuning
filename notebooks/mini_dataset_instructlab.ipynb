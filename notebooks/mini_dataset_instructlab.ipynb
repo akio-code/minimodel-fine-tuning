{
 "metadata": {
  "kernelspec": {
   "name": "python3",
   "display_name": "Python 3 (ipykernel)",
   "language": "python"
  },
  "language_info": {
   "name": "python",
   "version": "3.11.13",
   "mimetype": "text/x-python",
   "codemirror_mode": {
    "name": "ipython",
    "version": 3
   },
   "pygments_lexer": "ipython3",
   "nbconvert_exporter": "python",
   "file_extension": ".py"
  },
  "accelerator": "GPU",
  "colab": {
   "gpuType": "T4",
   "provenance": []
  }
 },
 "nbformat_minor": 4,
 "nbformat": 4,
 "cells": [
  {
   "cell_type": "markdown",
   "source": "## Installing dependencies",
   "metadata": {
    "editable": true,
    "id": "QOdLkB12cf6-",
    "slideshow": {
     "slide_type": ""
    },
    "tags": []
   }
  },
  {
   "cell_type": "code",
   "source": [
    "%%capture\n",
    "!pip install 'instructlab[cuda]' \\\n",
    "   -C cmake.args=\"-DLLAMA_CUDA=on\" \\\n",
    "   -C cmake.args=\"-DLLAMA_NATIVE=off\"\n",
    "!pip install vllm"
   ],
   "metadata": {
    "id": "d9Pgo6s-cjOM",
    "scrolled": true,
    "trusted": true
   },
   "outputs": [],
   "execution_count": null
  },
  {
   "metadata": {},
   "cell_type": "markdown",
   "source": "## Defining working directory"
  },
  {
   "metadata": {},
   "cell_type": "code",
   "source": "WORKSPACE = \"/workspace\"",
   "outputs": [],
   "execution_count": null
  },
  {
   "cell_type": "markdown",
   "source": "## Taxonomy\n\nNow I need to clone the taxonomy repository:\n\ndocs: https://docs.instructlab.ai/taxonomy/",
   "metadata": {
    "id": "Dw-sjIbEoSVk"
   }
  },
  {
   "cell_type": "code",
   "source": [
    "# Remove existing taxonomy folder if exists\n",
    "!rm -rf {WORKSPACE}/taxonomy\n",
    "\n",
    "# Cloning the taxonomy repository\n",
    "!git clone https://github.com/instructlab/taxonomy.git {WORKSPACE}/taxonomy"
   ],
   "metadata": {
    "colab": {
     "base_uri": "https://localhost:8080/"
    },
    "id": "hk5r8S-GoU6W",
    "outputId": "63ca725e-2800-4401-c5d6-091cde4e20ab",
    "trusted": true
   },
   "outputs": [],
   "execution_count": null
  },
  {
   "cell_type": "markdown",
   "source": "## Initialize the instructlab\n\nNow I need to initialize the **instructlab**. Remember to get the taxonomy cloned repository absolut path - in my case, it is `/content/taxonomy`.\n\nNote: If yout are in Jupyter notebook you will not be able to interact with the output. If so, run the next command in the terminal.",
   "metadata": {
    "id": "vJZBZSY4oyTT"
   }
  },
  {
   "cell_type": "code",
   "source": [
    "!ilab config init \\\n",
    "    --taxonomy-path {WORKSPACE}/taxonomy \\\n",
    "    --non-interactive"
   ],
   "metadata": {
    "colab": {
     "base_uri": "https://localhost:8080/"
    },
    "id": "iNVaYunzo-PW",
    "outputId": "04c9b166-7da3-49f3-b4e9-8dce4d40d35c",
    "trusted": true
   },
   "outputs": [],
   "execution_count": null
  },
  {
   "metadata": {},
   "cell_type": "markdown",
   "source": ""
  },
  {
   "cell_type": "markdown",
   "source": "## Download the models\n\nIn this case we will be using unsloth Llama 3.2.\n\nNote: It will need the `HF_TOKEN` in the environment.",
   "metadata": {
    "id": "EhnPM5bD57Om"
   }
  },
  {
   "cell_type": "code",
   "source": [
    "# Download with safetensors\n",
    "!ilab model download \\\n",
    "--repository instructlab/merlinite-7b-lab"
   ],
   "metadata": {
    "colab": {
     "base_uri": "https://localhost:8080/"
    },
    "id": "PrhpD-cl6jjY",
    "outputId": "80be30d8-8d6b-43f0-bda7-87ace088e54d",
    "trusted": true
   },
   "outputs": [],
   "execution_count": null
  },
  {
   "cell_type": "markdown",
   "source": "## Synthetic Data\n\nLets clone the minimodel repository.\n\nI've created inside the minimodel repo the `knowledge/taxonomy` folder with `minima_qna.yaml` following the knowledge template provided by the `taxonomy` repository.\n\nThe `minima_qna.yaml` file contains the questions and answers extracted from the minima whitepaper and brand\n guidelines.",
   "metadata": {
    "id": "bkQ9_y0OXYDh"
   }
  },
  {
   "cell_type": "code",
   "source": [
    "import os\n",
    "\n",
    "# Add GitHub access token\n",
    "github_token = os.getenv(\"GITHUB_TOKEN\")\n",
    "!git config --global url.\"https://{github_token}@github.com/\".insteadOf https://github.com/\n",
    "\n",
    "# Remove any existing minim\n",
    "!rm -rf {WORKSPACE}/minimodel\n",
    "\n",
    "# Clone the minimodel repository\n",
    "!git clone -b feat/translating-knowledge --single-branch https://github.com/akio-code/minimodel.git {WORKSPACE}/minimodel"
   ],
   "metadata": {
    "colab": {
     "base_uri": "https://localhost:8080/"
    },
    "id": "0BgubyN-U7gS",
    "outputId": "399ee92b-1069-46da-bd0a-c9edfdd5c3bb",
    "trusted": true
   },
   "outputs": [],
   "execution_count": null
  },
  {
   "cell_type": "markdown",
   "source": "### Copying the minima taxonomy\n\nNow we need to copy the `minima_qna.yaml` and `attribution.txt` to the **taxonomy** repository. It will be use to generate the data with the instructlab.",
   "metadata": {
    "id": "s0sap3YDVlMx"
   }
  },
  {
   "cell_type": "code",
   "source": [
    "# Create the destination folder\n",
    "!mkdir -p {WORKSPACE}/taxonomy/knowledge/business\n",
    "\n",
    "# Copy from minimodel\n",
    "!cp {WORKSPACE}/minimodel/knowledge/taxonomy/minima_qna.yaml {WORKSPACE}/taxonomy/knowledge/business/qna.yaml\n",
    "!cp {WORKSPACE}/minimodel/knowledge/taxonomy/attribution.txt {WORKSPACE}/taxonomy/knowledge/business/"
   ],
   "metadata": {
    "id": "xe6eC7KpqGbe",
    "trusted": true
   },
   "outputs": [],
   "execution_count": null
  },
  {
   "cell_type": "markdown",
   "source": "Now I check if the taxonomy is valid:",
   "metadata": {
    "id": "LNKn5hleqVKn"
   }
  },
  {
   "cell_type": "code",
   "source": "!ilab taxonomy diff",
   "metadata": {
    "colab": {
     "base_uri": "https://localhost:8080/"
    },
    "id": "N84a_21fqUil",
    "outputId": "e39b0fc7-8d18-4e4f-82a6-c39c647bd66d",
    "trusted": true
   },
   "outputs": [],
   "execution_count": null
  },
  {
   "cell_type": "markdown",
   "source": "## Generating the data\n\ndocs: https://docs.instructlab.ai/adding-data-to-model/creating_new_knowledge_or_skills/",
   "metadata": {
    "id": "n5aBWe5jDHMY"
   }
  },
  {
   "cell_type": "code",
   "source": [
    "# Remove existing datasets folder if exists\n",
    "!rm -rf {WORKSPACE}/datasets\n",
    "\n",
    "# Generating the synthetic data\n",
    "!ilab data generate \\\n",
    "--taxonomy-path {WORKSPACE}/taxonomy \\\n",
    "--output-dir {WORKSPACE}/datasets \\\n",
    "--model /root/.cache/instructlab/models/instructlab/merlinite-7b-lab \\\n",
    "--pipeline simple \\\n",
    "--gpus 1"
   ],
   "metadata": {
    "colab": {
     "base_uri": "https://localhost:8080/"
    },
    "id": "CkPWCr3YEtqB",
    "outputId": "1c4734ef-b736-4020-f75b-c85c6013909a",
    "trusted": true
   },
   "outputs": [],
   "execution_count": null
  }
 ]
}
