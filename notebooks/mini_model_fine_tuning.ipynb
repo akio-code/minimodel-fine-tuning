{
 "cells": [
  {
   "cell_type": "markdown",
   "metadata": {
    "id": "uuaWG-rAJYm3"
   },
   "source": [
    "## Installing unsloth"
   ]
  },
  {
   "cell_type": "code",
   "metadata": {
    "id": "9jVDCNhH_wKD",
    "jupyter": {
     "is_executing": true
    }
   },
   "source": [
    "%%capture\n",
    "import os, re\n",
    "if \"COLAB_\" not in \"\".join(os.environ.keys()):\n",
    "    !pip install unsloth\n",
    "else:\n",
    "    # Do this only in Colab notebooks! Otherwise use pip install unsloth\n",
    "    import torch; v = re.match(r\"[0-9\\.]{3,}\", str(torch.__version__)).group(0)\n",
    "    xformers = \"xformers==\" + (\"0.0.32.post2\" if v == \"2.8.0\" else \"0.0.29.post3\")\n",
    "    !pip install --no-deps bitsandbytes accelerate {xformers} peft trl triton cut_cross_entropy unsloth_zoo\n",
    "    !pip install sentencepiece protobuf \"datasets>=3.4.1,<4.0.0\" \"huggingface_hub>=0.34.0\" hf_transfer\n",
    "    !pip install --no-deps unsloth\n",
    "!pip install transformers==4.55.4\n",
    "!pip install --no-deps trl==0.22.2"
   ],
   "outputs": [],
   "execution_count": null
  },
  {
   "metadata": {},
   "cell_type": "markdown",
   "source": "## Defining working directory"
  },
  {
   "metadata": {},
   "cell_type": "code",
   "source": [
    "from datetime import datetime\n",
    "\n",
    "TIMESTAMP = datetime.now().strftime(\"%Y-%m-%d-%H%M\")\n",
    "WORKSPACE = \"/workspace\""
   ],
   "outputs": [],
   "execution_count": null
  },
  {
   "cell_type": "markdown",
   "metadata": {
    "id": "w1FYgYJ7Jdu7"
   },
   "source": [
    "## Loading the LLM\n",
    "\n",
    "Download the LLM model from Hugging Face, with safetensors format"
   ]
  },
  {
   "cell_type": "code",
   "metadata": {
    "id": "oX9T-FvRJ0-s"
   },
   "source": [
    "from unsloth import FastLanguageModel\n",
    "\n",
    "# Setting the parameters\n",
    "max_seq_length = 2048\n",
    "dtype = None\n",
    "load_in_4bit = True\n",
    "\n",
    "# Loading LLM from Hugging Face\n",
    "model, tokenizer = FastLanguageModel.from_pretrained(\n",
    "    model_name='unsloth/Llama-3.2-1B-Instruct-unsloth-bnb-4bit',\n",
    "    max_seq_length=max_seq_length,\n",
    "    dtype=dtype,\n",
    "    load_in_4bit=load_in_4bit,\n",
    ")"
   ],
   "outputs": [],
   "execution_count": null
  },
  {
   "metadata": {},
   "cell_type": "markdown",
   "source": [
    "### Adding LoRA adapters\n",
    "\n",
    "docs: https://github.com/unslothai/unsloth/wiki#lora-parameters-encyclopedia"
   ]
  },
  {
   "metadata": {},
   "cell_type": "code",
   "source": [
    "# Applying LoRA\n",
    "model = FastLanguageModel.get_peft_model(\n",
    "    model,\n",
    "    r=16,\n",
    "    target_modules=[\"q_proj\", \"k_proj\", \"v_proj\", \"o_proj\",\n",
    "                    \"gate_proj\", \"up_proj\", \"down_proj\", ],\n",
    "    lora_alpha=16,  # the higher the number is, the more weight changes\n",
    "    lora_dropout=0,  # how much information will retain in the weight updating process\n",
    "    bias=\"none\",  # specifies whether the lora layers that we are updating should learn bias (memory saving technic)\n",
    "    use_gradient_checkpointing=\"unsloth\",\n",
    "    # saves memory, by recomputing the activation instead of storing (useful on long datasets)\n",
    "    random_state=3407,  # Ramdom seed\n",
    "    use_rslora=False,\n",
    "    loftq_config=None,  # low bit fine-tuning quantization (disable)\n",
    ")"
   ],
   "outputs": [],
   "execution_count": null
  },
  {
   "cell_type": "markdown",
   "metadata": {
    "id": "PKhgrzbdQyza"
   },
   "source": [
    "---\n",
    "\n",
    "## Running inference before fine-tuning"
   ]
  },
  {
   "cell_type": "code",
   "metadata": {
    "id": "LQTObSdHQ3Di"
   },
   "source": [
    "from transformers import TextStreamer\n",
    "\n",
    "# Messages\n",
    "question = \"O que é a minima?\"\n",
    "messages = [{\"role\": \"user\", \"content\": question}]\n",
    "\n",
    "# Enable optimizes inference mode for unsloth models (improves speed and efficiency)\n",
    "FastLanguageModel.for_inference(model)\n",
    "\n",
    "# Format the question using the structured prompt (`prompt_style`) and tokenize it\n",
    "inputs = tokenizer.apply_chat_template(\n",
    "    messages,\n",
    "    tokenize=True,\n",
    "    add_generation_prompt=True,  # Must add for generation\n",
    "    return_tensors=\"pt\",\n",
    ").to(\"cuda\")\n",
    "\n",
    "# Create a text streamer to stream the output\n",
    "text_streamer = TextStreamer(tokenizer, skip_prompt=True)\n",
    "\n",
    "# Generate the response using the model\n",
    "_ = model.generate(\n",
    "    input_ids=inputs,\n",
    "    streamer=text_streamer,\n",
    "    max_new_tokens=2048,\n",
    "    use_cache=True,\n",
    "    min_p=0.1\n",
    ")"
   ],
   "outputs": [],
   "execution_count": null
  },
  {
   "cell_type": "markdown",
   "metadata": {
    "id": "Lh9UI9TEaBBO"
   },
   "source": [
    "---\n",
    "\n",
    "# Dataset\n",
    "\n",
    "## Loading the dataset"
   ]
  },
  {
   "cell_type": "code",
   "metadata": {
    "id": "w_8CIeYkkQMY"
   },
   "source": [
    "from datasets import load_dataset, concatenate_datasets\n",
    "from unsloth.chat_templates import standardize_sharegpt\n",
    "\n",
    "# Synthetic datasets generated with instructlab\n",
    "KNOWLEDGE_DATASET = \"/workspace/datasets/2025-09-12_004739/knowledge_train_msgs_2025-09-12T00_51_21.jsonl\"\n",
    "SKILLS_DATASET = \"/workspace/datasets/2025-09-12_004739/skills_train_msgs_2025-09-12T00_51_21.jsonl\"\n",
    "\n",
    "# Loading synthetic dataset\n",
    "knowledge_ds = load_dataset(\n",
    "    path=\"json\",\n",
    "    data_files=KNOWLEDGE_DATASET,\n",
    "    split=\"train\",\n",
    ")\n",
    "skills_ds = load_dataset(\n",
    "    path=\"json\",\n",
    "    data_files=SKILLS_DATASET,\n",
    "    split=\"train\",\n",
    ")\n",
    "\n",
    "# Concatenate both datasets\n",
    "combined_ds = concatenate_datasets([knowledge_ds, skills_ds])\n",
    "combined_ds = combined_ds.shuffle(seed=3407)"
   ],
   "outputs": [],
   "execution_count": null
  },
  {
   "metadata": {},
   "cell_type": "markdown",
   "source": "### Applying the chat template"
  },
  {
   "metadata": {},
   "cell_type": "code",
   "source": [
    "from unsloth.chat_templates import get_chat_template\n",
    "\n",
    "tokenizer = get_chat_template(\n",
    "    tokenizer,\n",
    "    chat_template=\"llama-3.2\",\n",
    ")"
   ],
   "outputs": [],
   "execution_count": null
  },
  {
   "metadata": {},
   "cell_type": "markdown",
   "source": [
    "## Standardizing the dataset\n",
    "\n",
    "Now we need to standardize the dataset to the ShareGPT format, and format the messages to include a system prompt."
   ]
  },
  {
   "cell_type": "code",
   "metadata": {
    "id": "HsVSEMv9oGHx"
   },
   "source": [
    "# Formating chat messages\n",
    "def formatting_prompts(examples):\n",
    "    messages = examples[\"messages\"]\n",
    "\n",
    "    system_message = (\n",
    "        \"You are Minima's expert assistant. You have deep knowledge of the Minima Innovation Studio, \"\n",
    "        \"its methodology, success cases, and strategic value. Help users understand what we do and why we do it.\"\n",
    "    )\n",
    "\n",
    "    # Replacing system message\n",
    "    updated_messages = []\n",
    "    for chat in messages:\n",
    "        # Filtering out existing system messages\n",
    "        non_system_messages = [\n",
    "            msg\n",
    "            for msg in chat\n",
    "            if msg[\"role\"] != \"system\"\n",
    "        ]\n",
    "\n",
    "        # Prepend the new system message\n",
    "        new_chat = [{\"role\": \"system\", \"content\": system_message}] + non_system_messages\n",
    "\n",
    "        updated_messages.append(new_chat)\n",
    "\n",
    "    # Formatting using tokenizer\n",
    "    texts = [\n",
    "        tokenizer.apply_chat_template(\n",
    "            message,\n",
    "            tokenize=False,\n",
    "            add_generation_prompt=False\n",
    "        )\n",
    "        for message in updated_messages\n",
    "    ]\n",
    "\n",
    "    return {\"text\": texts}"
   ],
   "outputs": [],
   "execution_count": null
  },
  {
   "metadata": {},
   "cell_type": "markdown",
   "source": "## Updating the loaded dataset"
  },
  {
   "cell_type": "code",
   "metadata": {
    "id": "ZjlxZQmzuzYE"
   },
   "source": [
    "# Standardize dataset\n",
    "standardize_ds = standardize_sharegpt(combined_ds)\n",
    "standardize_ds = standardize_ds.map(formatting_prompts, batched=True)\n",
    "\n",
    "# E.g.\n",
    "standardize_ds[2]"
   ],
   "outputs": [],
   "execution_count": null
  },
  {
   "cell_type": "markdown",
   "metadata": {
    "id": "1BpNolApx86C"
   },
   "source": [
    "---\n",
    "\n",
    "# Trainning\n",
    "\n",
    "## Creating the fine-tuning trainer"
   ]
  },
  {
   "cell_type": "code",
   "metadata": {
    "id": "zU83Jpikx_4K"
   },
   "source": [
    "from trl import SFTTrainer, SFTConfig\n",
    "from unsloth import is_bfloat16_supported\n",
    "from transformers import DataCollatorForSeq2Seq\n",
    "\n",
    "# Initialize the supervised fine-tuning trainer\n",
    "trainer = SFTTrainer(\n",
    "    model=model,\n",
    "    tokenizer=tokenizer,\n",
    "    train_dataset=standardize_ds,\n",
    "    dataset_text_field=\"text\",\n",
    "    max_seq_length=max_seq_length,\n",
    "    data_collator=DataCollatorForSeq2Seq(tokenizer=tokenizer),\n",
    "    packing=False,  # Can make training 5x faster for short sequences\n",
    "\n",
    "    # Defining the training args\n",
    "    args=SFTConfig(\n",
    "        per_device_train_batch_size=2,\n",
    "        gradient_accumulation_steps=4,  # how many step accumulate before update weight\n",
    "        num_train_epochs=1,  # Set this for 1 full training run\n",
    "        warmup_steps=100,  # Gradually increase the learning rate for the first 5 steps\n",
    "        # max_steps = 60,\n",
    "        learning_rate=2e-4,\n",
    "        fp16=not is_bfloat16_supported(),\n",
    "        bf16=is_bfloat16_supported(),\n",
    "        logging_steps=100,\n",
    "        optim=\"adamw_8bit\",\n",
    "        weight_decay=0.01,  # Allow regularization to prevent overfitting\n",
    "        lr_scheduler_type=\"cosine\",\n",
    "        seed=3407,\n",
    "        output_dir=f\"{WORKSPACE}/outputs\",\n",
    "        report_to=\"none\",  # Enable WandB later\n",
    "    )\n",
    ")"
   ],
   "outputs": [],
   "execution_count": null
  },
  {
   "cell_type": "markdown",
   "metadata": {
    "id": "WWi8cKQZ2hIJ"
   },
   "source": [
    "# Trainning\n"
   ]
  },
  {
   "cell_type": "code",
   "metadata": {
    "id": "1OqO80XS2k1F",
    "jupyter": {
     "is_executing": true
    }
   },
   "source": [
    "# Start the fine-tuning process\n",
    "trainer_stats = trainer.train()"
   ],
   "outputs": [],
   "execution_count": null
  },
  {
   "metadata": {},
   "cell_type": "markdown",
   "source": "## Testing the fine-tuned model"
  },
  {
   "cell_type": "code",
   "metadata": {
    "id": "HsVSEMv9oGHx"
   },
   "source": [
    "# Messages\n",
    "question = \"O que é a minima?\"\n",
    "messages = [{\"role\": \"user\", \"content\": question}]\n",
    "\n",
    "# Enable optimizes inference mode for unsloth models (improves speed and efficiency)\n",
    "FastLanguageModel.for_inference(model)\n",
    "\n",
    "# Format the question using the structured prompt (`prompt_style`) and tokenize it\n",
    "inputs = tokenizer.apply_chat_template(\n",
    "    messages,\n",
    "    tokenize=True,\n",
    "    add_generation_prompt=True,  # Must add for generation\n",
    "    return_tensors=\"pt\",\n",
    ").to(\"cuda\")\n",
    "\n",
    "from transformers import TextStreamer\n",
    "\n",
    "text_streamer = TextStreamer(tokenizer, skip_prompt=True)\n",
    "\n",
    "_ = model.generate(\n",
    "    input_ids=inputs,\n",
    "    streamer=text_streamer,\n",
    "    max_new_tokens=2048,\n",
    "    use_cache=True,\n",
    "    min_p=0.1\n",
    ")"
   ],
   "outputs": [],
   "execution_count": null
  },
  {
   "metadata": {},
   "cell_type": "markdown",
   "source": [
    "## Saving to VLLM\n",
    "\n",
    "To save to 16bit for VLLM"
   ]
  },
  {
   "metadata": {},
   "cell_type": "code",
   "source": [
    "# 16bit merged model\n",
    "model_dir = f\"{WORKSPACE}/model\"\n",
    "model.save_pretrained_merged(model_dir, tokenizer, save_method =\"merged_16bit\", )\n",
    "\n",
    "# LoRA adapters\n",
    "model_lora_dir = f\"{WORKSPACE}/model_lora\"\n",
    "model.save_pretrained_merged(model_lora_dir, tokenizer, save_method =\"lora\", )"
   ],
   "outputs": [],
   "execution_count": null
  },
  {
   "metadata": {},
   "cell_type": "markdown",
   "source": [
    "## Saving to GGUF\n",
    "\n",
    "Saving models to 16bit for GGUF"
   ]
  },
  {
   "metadata": {},
   "cell_type": "code",
   "source": [
    "# Output directory\n",
    "model_gguf_dir = f\"{WORKSPACE}/model_GGUF\"\n",
    "\n",
    "# Saving the model in GGUF format\n",
    "model.save_pretrained_gguf(model_gguf_dir, tokenizer, quantization_method =\"q4_k_m\")"
   ],
   "outputs": [],
   "execution_count": null
  },
  {
   "metadata": {},
   "cell_type": "markdown",
   "source": [
    "## Modelfile\n",
    "\n",
    "Saving the Modelfile for GGUF to use with Ollama"
   ]
  },
  {
   "metadata": {},
   "cell_type": "code",
   "source": [
    "import os\n",
    "\n",
    "# folder path\n",
    "output_dir = f\"{WORKSPACE}/fine-tuning/{TIMESTAMP}\"\n",
    "os.makedirs(output_dir, exist_ok=True)\n",
    "\n",
    "# Modelfile path\n",
    "modelfile_path = os.path.join(output_dir, \"Modelfile\")\n",
    "\n",
    "with open(modelfile_path, \"w\") as f:\n",
    "    f.write(tokenizer._ollama_modelfile)\n",
    "\n",
    "print(f\"✅ Modelfile written to {modelfile_path}\")"
   ],
   "outputs": [],
   "execution_count": null
  }
 ],
 "metadata": {
  "accelerator": "GPU",
  "colab": {
   "collapsed_sections": [
    "eF-5L0qTZmEn"
   ],
   "generative_ai_disabled": true,
   "gpuType": "T4",
   "provenance": []
  },
  "kernelspec": {
   "display_name": "Python 3 (ipykernel)",
   "language": "python",
   "name": "python3"
  },
  "language_info": {
   "codemirror_mode": {
    "name": "ipython",
    "version": 3
   },
   "file_extension": ".py",
   "mimetype": "text/x-python",
   "name": "python",
   "nbconvert_exporter": "python",
   "pygments_lexer": "ipython3",
   "version": "3.11.11"
  }
 },
 "nbformat": 4,
 "nbformat_minor": 4
}
